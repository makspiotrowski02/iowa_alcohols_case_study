{
 "cells": [
  {
   "cell_type": "code",
   "execution_count": 9,
   "metadata": {},
   "outputs": [],
   "source": [
    "import pandas as pd"
   ]
  },
  {
   "cell_type": "code",
   "execution_count": 10,
   "metadata": {},
   "outputs": [
    {
     "name": "stderr",
     "output_type": "stream",
     "text": [
      "C:\\Users\\maksp\\AppData\\Local\\Temp\\ipykernel_4940\\2598868326.py:1: DtypeWarning: Columns (6,14) have mixed types. Specify dtype option on import or set low_memory=False.\n",
      "  dataset = pd.read_csv(\"IowaLiquorSales.csv\")\n"
     ]
    }
   ],
   "source": [
    "dataset = pd.read_csv(\"IowaLiquorSales.csv\")"
   ]
  },
  {
   "cell_type": "code",
   "execution_count": 11,
   "metadata": {},
   "outputs": [
    {
     "data": {
      "text/plain": [
       "(29445098, 24)"
      ]
     },
     "execution_count": 11,
     "metadata": {},
     "output_type": "execute_result"
    }
   ],
   "source": [
    "dataset.shape"
   ]
  },
  {
   "cell_type": "code",
   "execution_count": 12,
   "metadata": {},
   "outputs": [
    {
     "data": {
      "text/html": [
       "<div>\n",
       "<style scoped>\n",
       "    .dataframe tbody tr th:only-of-type {\n",
       "        vertical-align: middle;\n",
       "    }\n",
       "\n",
       "    .dataframe tbody tr th {\n",
       "        vertical-align: top;\n",
       "    }\n",
       "\n",
       "    .dataframe thead th {\n",
       "        text-align: right;\n",
       "    }\n",
       "</style>\n",
       "<table border=\"1\" class=\"dataframe\">\n",
       "  <thead>\n",
       "    <tr style=\"text-align: right;\">\n",
       "      <th></th>\n",
       "      <th>Invoice/Item Number</th>\n",
       "      <th>Date</th>\n",
       "      <th>Store Number</th>\n",
       "      <th>Store Name</th>\n",
       "      <th>Address</th>\n",
       "      <th>City</th>\n",
       "      <th>Zip Code</th>\n",
       "      <th>Store Location</th>\n",
       "      <th>County Number</th>\n",
       "      <th>County</th>\n",
       "      <th>...</th>\n",
       "      <th>Item Number</th>\n",
       "      <th>Item Description</th>\n",
       "      <th>Pack</th>\n",
       "      <th>Bottle Volume (ml)</th>\n",
       "      <th>State Bottle Cost</th>\n",
       "      <th>State Bottle Retail</th>\n",
       "      <th>Bottles Sold</th>\n",
       "      <th>Sale (Dollars)</th>\n",
       "      <th>Volume Sold (Liters)</th>\n",
       "      <th>Volume Sold (Gallons)</th>\n",
       "    </tr>\n",
       "  </thead>\n",
       "  <tbody>\n",
       "    <tr>\n",
       "      <th>0</th>\n",
       "      <td>INV-27000400013</td>\n",
       "      <td>05/04/2020</td>\n",
       "      <td>5815</td>\n",
       "      <td>SUPER STOP IV - DUBUQUE</td>\n",
       "      <td>535 HILL STREET SUITE A</td>\n",
       "      <td>DUBUQUE</td>\n",
       "      <td>52001</td>\n",
       "      <td>POINT (-90.673985 42.496794)</td>\n",
       "      <td>31.0</td>\n",
       "      <td>DUBUQUE</td>\n",
       "      <td>...</td>\n",
       "      <td>24454</td>\n",
       "      <td>KESSLER BLEND WHISKEY</td>\n",
       "      <td>24</td>\n",
       "      <td>375</td>\n",
       "      <td>3.15</td>\n",
       "      <td>4.73</td>\n",
       "      <td>24</td>\n",
       "      <td>113.52</td>\n",
       "      <td>9.00</td>\n",
       "      <td>2.37</td>\n",
       "    </tr>\n",
       "    <tr>\n",
       "      <th>1</th>\n",
       "      <td>INV-27031700024</td>\n",
       "      <td>05/05/2020</td>\n",
       "      <td>5701</td>\n",
       "      <td>THE HUT 23</td>\n",
       "      <td>603 10TH STREET</td>\n",
       "      <td>ONAWA</td>\n",
       "      <td>51040</td>\n",
       "      <td>POINT (-96.097184 42.03192)</td>\n",
       "      <td>67.0</td>\n",
       "      <td>MONONA</td>\n",
       "      <td>...</td>\n",
       "      <td>35918</td>\n",
       "      <td>FIVE O'CLOCK VODKA</td>\n",
       "      <td>6</td>\n",
       "      <td>1750</td>\n",
       "      <td>7.20</td>\n",
       "      <td>10.80</td>\n",
       "      <td>6</td>\n",
       "      <td>64.80</td>\n",
       "      <td>10.50</td>\n",
       "      <td>2.77</td>\n",
       "    </tr>\n",
       "    <tr>\n",
       "      <th>2</th>\n",
       "      <td>INV-27040200220</td>\n",
       "      <td>05/05/2020</td>\n",
       "      <td>2572</td>\n",
       "      <td>HY-VEE FOOD STORE / CEDAR FALLS</td>\n",
       "      <td>6301 UNIVERSITY</td>\n",
       "      <td>CEDAR FALLS</td>\n",
       "      <td>50613</td>\n",
       "      <td>POINT (-92.435236 42.512789)</td>\n",
       "      <td>7.0</td>\n",
       "      <td>BLACK HAWK</td>\n",
       "      <td>...</td>\n",
       "      <td>80236</td>\n",
       "      <td>IOWISH CREAM LIQUEUR</td>\n",
       "      <td>6</td>\n",
       "      <td>750</td>\n",
       "      <td>10.17</td>\n",
       "      <td>15.26</td>\n",
       "      <td>6</td>\n",
       "      <td>91.56</td>\n",
       "      <td>4.50</td>\n",
       "      <td>1.18</td>\n",
       "    </tr>\n",
       "    <tr>\n",
       "      <th>3</th>\n",
       "      <td>INV-26985600020</td>\n",
       "      <td>05/04/2020</td>\n",
       "      <td>5665</td>\n",
       "      <td>NEW STAR / FORT DODGE</td>\n",
       "      <td>1923 5TH AVE S</td>\n",
       "      <td>FORT DODGE</td>\n",
       "      <td>50501</td>\n",
       "      <td>POINT (-94.170859 42.501169)</td>\n",
       "      <td>94.0</td>\n",
       "      <td>WEBSTER</td>\n",
       "      <td>...</td>\n",
       "      <td>81124</td>\n",
       "      <td>99 PEPPERMINT MINI</td>\n",
       "      <td>10</td>\n",
       "      <td>50</td>\n",
       "      <td>6.00</td>\n",
       "      <td>9.00</td>\n",
       "      <td>1</td>\n",
       "      <td>9.00</td>\n",
       "      <td>0.05</td>\n",
       "      <td>0.01</td>\n",
       "    </tr>\n",
       "    <tr>\n",
       "      <th>4</th>\n",
       "      <td>INV-27006600062</td>\n",
       "      <td>05/04/2020</td>\n",
       "      <td>2616</td>\n",
       "      <td>HY-VEE FOOD AND DRUG / CLINTON</td>\n",
       "      <td>901 SOUTH 4TH ST</td>\n",
       "      <td>CLINTON</td>\n",
       "      <td>52732</td>\n",
       "      <td>POINT (-90.193204 41.836268000000004)</td>\n",
       "      <td>23.0</td>\n",
       "      <td>CLINTON</td>\n",
       "      <td>...</td>\n",
       "      <td>41846</td>\n",
       "      <td>EVERCLEAR 151</td>\n",
       "      <td>12</td>\n",
       "      <td>750</td>\n",
       "      <td>8.00</td>\n",
       "      <td>12.00</td>\n",
       "      <td>24</td>\n",
       "      <td>288.00</td>\n",
       "      <td>18.00</td>\n",
       "      <td>4.75</td>\n",
       "    </tr>\n",
       "  </tbody>\n",
       "</table>\n",
       "<p>5 rows × 24 columns</p>\n",
       "</div>"
      ],
      "text/plain": [
       "  Invoice/Item Number        Date  Store Number  \\\n",
       "0     INV-27000400013  05/04/2020          5815   \n",
       "1     INV-27031700024  05/05/2020          5701   \n",
       "2     INV-27040200220  05/05/2020          2572   \n",
       "3     INV-26985600020  05/04/2020          5665   \n",
       "4     INV-27006600062  05/04/2020          2616   \n",
       "\n",
       "                        Store Name                  Address         City  \\\n",
       "0          SUPER STOP IV - DUBUQUE  535 HILL STREET SUITE A      DUBUQUE   \n",
       "1                       THE HUT 23          603 10TH STREET        ONAWA   \n",
       "2  HY-VEE FOOD STORE / CEDAR FALLS          6301 UNIVERSITY  CEDAR FALLS   \n",
       "3            NEW STAR / FORT DODGE           1923 5TH AVE S   FORT DODGE   \n",
       "4   HY-VEE FOOD AND DRUG / CLINTON         901 SOUTH 4TH ST      CLINTON   \n",
       "\n",
       "  Zip Code                         Store Location  County Number      County  \\\n",
       "0    52001           POINT (-90.673985 42.496794)           31.0     DUBUQUE   \n",
       "1    51040            POINT (-96.097184 42.03192)           67.0      MONONA   \n",
       "2    50613           POINT (-92.435236 42.512789)            7.0  BLACK HAWK   \n",
       "3    50501           POINT (-94.170859 42.501169)           94.0     WEBSTER   \n",
       "4    52732  POINT (-90.193204 41.836268000000004)           23.0     CLINTON   \n",
       "\n",
       "   ...  Item Number       Item Description  Pack Bottle Volume (ml)  \\\n",
       "0  ...        24454  KESSLER BLEND WHISKEY    24                375   \n",
       "1  ...        35918     FIVE O'CLOCK VODKA     6               1750   \n",
       "2  ...        80236   IOWISH CREAM LIQUEUR     6                750   \n",
       "3  ...        81124     99 PEPPERMINT MINI    10                 50   \n",
       "4  ...        41846          EVERCLEAR 151    12                750   \n",
       "\n",
       "  State Bottle Cost State Bottle Retail  Bottles Sold  Sale (Dollars)  \\\n",
       "0              3.15                4.73            24          113.52   \n",
       "1              7.20               10.80             6           64.80   \n",
       "2             10.17               15.26             6           91.56   \n",
       "3              6.00                9.00             1            9.00   \n",
       "4              8.00               12.00            24          288.00   \n",
       "\n",
       "   Volume Sold (Liters)  Volume Sold (Gallons)  \n",
       "0                  9.00                   2.37  \n",
       "1                 10.50                   2.77  \n",
       "2                  4.50                   1.18  \n",
       "3                  0.05                   0.01  \n",
       "4                 18.00                   4.75  \n",
       "\n",
       "[5 rows x 24 columns]"
      ]
     },
     "execution_count": 12,
     "metadata": {},
     "output_type": "execute_result"
    }
   ],
   "source": [
    "dataset.head()"
   ]
  },
  {
   "cell_type": "markdown",
   "metadata": {},
   "source": [
    "## Renaming columns"
   ]
  },
  {
   "cell_type": "code",
   "execution_count": 13,
   "metadata": {},
   "outputs": [],
   "source": [
    "dataset.columns = ['invoice', 'date', 'store_number', \"store_name\", \"address\",\n",
    "                    \"city\", \"zip_code\", \"store_location\", \"county_number\", \"county\",\n",
    "                    \"category\", \"category_name\", \"vendor_number\", \"vendor_name\", \"item_number\",\n",
    "                    \"item_description\", \"pack\", \"bottle_volume_ml\", \"state_bottle_cost\",\n",
    "                    \"state_bottle_retail\", \"bottles_sold\", \"sale\", \"volume_sold_liters\", \"volume_sold_gallons\"]"
   ]
  },
  {
   "cell_type": "markdown",
   "metadata": {},
   "source": [
    "## Null records"
   ]
  },
  {
   "cell_type": "code",
   "execution_count": 21,
   "metadata": {},
   "outputs": [
    {
     "data": {
      "text/plain": [
       "invoice                0\n",
       "date                   0\n",
       "store_number           0\n",
       "store_name             0\n",
       "address                0\n",
       "city                   0\n",
       "county                 0\n",
       "category               0\n",
       "category_name          0\n",
       "vendor_number          0\n",
       "vendor_name            0\n",
       "item_number            0\n",
       "item_description       0\n",
       "pack                   0\n",
       "bottle_volume_ml       0\n",
       "state_bottle_cost      0\n",
       "state_bottle_retail    0\n",
       "bottles_sold           0\n",
       "sale                   0\n",
       "volume_sold_liters     0\n",
       "volume_sold_gallons    0\n",
       "dtype: int64"
      ]
     },
     "execution_count": 21,
     "metadata": {},
     "output_type": "execute_result"
    }
   ],
   "source": [
    "dataset.isna().sum()"
   ]
  },
  {
   "cell_type": "markdown",
   "metadata": {},
   "source": [
    "Store location and county Number columns have a lot of null values (more than 10%) and as exact geographical location, zip code and county number is not needed for analysis, these columns can be dropped. The rest of the records that have NA values are representing about 0.3% of whole dataset so these can be dropped too."
   ]
  },
  {
   "cell_type": "code",
   "execution_count": 10,
   "metadata": {},
   "outputs": [
    {
     "data": {
      "text/plain": [
       "0.35714285714285715"
      ]
     },
     "execution_count": 10,
     "metadata": {},
     "output_type": "execute_result"
    }
   ],
   "source": [
    "(100000/28000000)*100"
   ]
  },
  {
   "cell_type": "code",
   "execution_count": 15,
   "metadata": {},
   "outputs": [],
   "source": [
    "dataset.drop(\"store_location\", axis = 1, inplace=True)"
   ]
  },
  {
   "cell_type": "code",
   "execution_count": 16,
   "metadata": {},
   "outputs": [],
   "source": [
    "dataset.drop(\"county_number\", axis = 1, inplace=True)"
   ]
  },
  {
   "cell_type": "code",
   "execution_count": 17,
   "metadata": {},
   "outputs": [],
   "source": [
    "dataset.drop(\"zip_code\", axis = 1, inplace=True)"
   ]
  },
  {
   "cell_type": "code",
   "execution_count": 18,
   "metadata": {},
   "outputs": [
    {
     "data": {
      "text/plain": [
       "(29445098, 21)"
      ]
     },
     "execution_count": 18,
     "metadata": {},
     "output_type": "execute_result"
    }
   ],
   "source": [
    "dataset.shape"
   ]
  },
  {
   "cell_type": "code",
   "execution_count": 19,
   "metadata": {},
   "outputs": [],
   "source": [
    "dataset.dropna(inplace=True)"
   ]
  },
  {
   "cell_type": "code",
   "execution_count": 20,
   "metadata": {},
   "outputs": [
    {
     "data": {
      "text/plain": [
       "(29260539, 21)"
      ]
     },
     "execution_count": 20,
     "metadata": {},
     "output_type": "execute_result"
    }
   ],
   "source": [
    "dataset.shape"
   ]
  },
  {
   "cell_type": "markdown",
   "metadata": {},
   "source": [
    "# Misspelled words (city, store_name, item_description)"
   ]
  },
  {
   "cell_type": "markdown",
   "metadata": {},
   "source": [
    "Three columns have text values, so it's important to try checking them for misspelled words."
   ]
  },
  {
   "cell_type": "code",
   "execution_count": 22,
   "metadata": {},
   "outputs": [
    {
     "data": {
      "text/plain": [
       "invoice                 object\n",
       "date                    object\n",
       "store_number             int64\n",
       "store_name              object\n",
       "address                 object\n",
       "city                    object\n",
       "county                  object\n",
       "category               float64\n",
       "category_name           object\n",
       "vendor_number          float64\n",
       "vendor_name             object\n",
       "item_number             object\n",
       "item_description        object\n",
       "pack                     int64\n",
       "bottle_volume_ml         int64\n",
       "state_bottle_cost      float64\n",
       "state_bottle_retail    float64\n",
       "bottles_sold             int64\n",
       "sale                   float64\n",
       "volume_sold_liters     float64\n",
       "volume_sold_gallons    float64\n",
       "dtype: object"
      ]
     },
     "execution_count": 22,
     "metadata": {},
     "output_type": "execute_result"
    }
   ],
   "source": [
    "dataset.dtypes"
   ]
  },
  {
   "cell_type": "code",
   "execution_count": 23,
   "metadata": {},
   "outputs": [
    {
     "name": "stdout",
     "output_type": "stream",
     "text": [
      "city 491\n",
      "store_name 3287\n",
      "item_description 12548\n"
     ]
    }
   ],
   "source": [
    "print(f\"city {dataset['city'].nunique()}\")\n",
    "print(f\"store_name {dataset['store_name'].nunique()}\")\n",
    "print(f\"item_description {dataset['item_description'].nunique()}\")"
   ]
  },
  {
   "cell_type": "code",
   "execution_count": 26,
   "metadata": {},
   "outputs": [
    {
     "data": {
      "text/plain": [
       "city\n",
       "DES MOINES          2500878\n",
       "CEDAR RAPIDS        1900770\n",
       "DAVENPORT           1243294\n",
       "WATERLOO             914778\n",
       "WEST DES MOINES      863513\n",
       "                     ...   \n",
       "RENWICK                  40\n",
       "BADGER                   29\n",
       "ALVORD                   10\n",
       "DUNCOMBE                  6\n",
       "COLORADO SPRINGS          2\n",
       "Name: count, Length: 491, dtype: int64"
      ]
     },
     "execution_count": 26,
     "metadata": {},
     "output_type": "execute_result"
    }
   ],
   "source": [
    "dataset['city'].value_counts()"
   ]
  },
  {
   "cell_type": "code",
   "execution_count": 27,
   "metadata": {},
   "outputs": [
    {
     "name": "stdout",
     "output_type": "stream",
     "text": [
      "store_name store_name\n",
      "HY-VEE #3 / BDI / DES MOINES            241081\n",
      "CENTRAL CITY 2                          209355\n",
      "CENTRAL CITY LIQUOR, INC.               179360\n",
      "HY-VEE FOOD STORE / CEDAR FALLS         155500\n",
      "HY-VEE WINE AND SPIRITS / BETTENDORF    152712\n",
      "                                         ...  \n",
      "THOME ENTERPRISES LLC                        2\n",
      "BEST CASE WINES                              2\n",
      "HY-VEE WINE AND SPIRITS / WATERLOO!          1\n",
      "HONEY CREEK DISTILLERY                       1\n",
      "SAM'S CLUB 4973 / DUBUQUE9                   1\n",
      "Name: count, Length: 3287, dtype: int64\n"
     ]
    }
   ],
   "source": [
    "print(f\"store_name {dataset['store_name'].value_counts()}\")\n"
   ]
  },
  {
   "cell_type": "code",
   "execution_count": 26,
   "metadata": {},
   "outputs": [
    {
     "name": "stdout",
     "output_type": "stream",
     "text": [
      "item_description item_description\n",
      "Titos Handmade Vodka              66878\n",
      "Black Velvet                      65916\n",
      "Fireball Cinnamon Whiskey         56900\n",
      "Hawkeye Vodka                     53017\n",
      "Captain Morgan Original Spiced    40539\n",
      "                                  ...  \n",
      "Sweet Carolina Sweet Tea Vodka        1\n",
      "Glengoyne 30 YO                       1\n",
      "Minglewood Apple Whisky               1\n",
      "Dictador Insolent                     1\n",
      "Adictivo Extra Anejo Black            1\n",
      "Name: count, Length: 4029, dtype: int64\n"
     ]
    }
   ],
   "source": [
    "print(f\"item_description {dataset['item_description'].value_counts()}\")"
   ]
  },
  {
   "cell_type": "code",
   "execution_count": 24,
   "metadata": {},
   "outputs": [],
   "source": [
    "dataset.to_csv(\"IowaLiquorSales_cleaned.csv\", index=False)"
   ]
  },
  {
   "cell_type": "markdown",
   "metadata": {},
   "source": [
    "After removing null values data is seems great and clean."
   ]
  }
 ],
 "metadata": {
  "kernelspec": {
   "display_name": "Python 3",
   "language": "python",
   "name": "python3"
  },
  "language_info": {
   "codemirror_mode": {
    "name": "ipython",
    "version": 3
   },
   "file_extension": ".py",
   "mimetype": "text/x-python",
   "name": "python",
   "nbconvert_exporter": "python",
   "pygments_lexer": "ipython3",
   "version": "3.11.9"
  }
 },
 "nbformat": 4,
 "nbformat_minor": 2
}
